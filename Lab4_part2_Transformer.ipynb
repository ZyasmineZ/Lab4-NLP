{
 "cells": [
  {
   "cell_type": "markdown",
   "id": "ada78b9a-fdda-4b6b-92e7-da623061ed9b",
   "metadata": {},
   "source": [
    "# Dataset : https://www.kaggle.com/datasets/michaelarman/poemsdataset/data"
   ]
  },
  {
   "cell_type": "code",
   "execution_count": 3,
   "id": "0229e5b9-5da6-45a9-9e74-5bca4ef00734",
   "metadata": {},
   "outputs": [],
   "source": [
    "import torch\n",
    "from transformers import GPT2Tokenizer, GPT2LMHeadModel\n",
    "from transformers import GPT2LMHeadModel, GPT2TokenizerFast\n",
    "import numpy as np\n",
    "from fastai.text.all import *"
   ]
  },
  {
   "cell_type": "code",
   "execution_count": 4,
   "id": "53cea6a9-7bfd-42fb-8c91-9c434b58ab37",
   "metadata": {},
   "outputs": [
    {
     "data": {
      "application/vnd.jupyter.widget-view+json": {
       "model_id": "4bdf80f7be5c4fcbb2a7235b7acaf546",
       "version_major": 2,
       "version_minor": 0
      },
      "text/plain": [
       "tokenizer_config.json:   0%|          | 0.00/26.0 [00:00<?, ?B/s]"
      ]
     },
     "metadata": {},
     "output_type": "display_data"
    },
    {
     "name": "stderr",
     "output_type": "stream",
     "text": [
      "C:\\Users\\Yasmine\\AppData\\Local\\Programs\\Python\\Python312\\Lib\\site-packages\\huggingface_hub\\file_download.py:157: UserWarning: `huggingface_hub` cache-system uses symlinks by default to efficiently store duplicated files but your machine does not support them in C:\\Users\\Yasmine\\.cache\\huggingface\\hub\\models--gpt2. Caching files will still work but in a degraded version that might require more space on your disk. This warning can be disabled by setting the `HF_HUB_DISABLE_SYMLINKS_WARNING` environment variable. For more details, see https://huggingface.co/docs/huggingface_hub/how-to-cache#limitations.\n",
      "To support symlinks on Windows, you either need to activate Developer Mode or to run Python as an administrator. In order to see activate developer mode, see this article: https://docs.microsoft.com/en-us/windows/apps/get-started/enable-your-device-for-development\n",
      "  warnings.warn(message)\n"
     ]
    },
    {
     "data": {
      "application/vnd.jupyter.widget-view+json": {
       "model_id": "1863d1ead3824140b8dd698a8164e2c4",
       "version_major": 2,
       "version_minor": 0
      },
      "text/plain": [
       "vocab.json:   0%|          | 0.00/1.04M [00:00<?, ?B/s]"
      ]
     },
     "metadata": {},
     "output_type": "display_data"
    },
    {
     "data": {
      "application/vnd.jupyter.widget-view+json": {
       "model_id": "6b4a5084d18340edbb9b1c0dc5ea9b05",
       "version_major": 2,
       "version_minor": 0
      },
      "text/plain": [
       "merges.txt:   0%|          | 0.00/456k [00:00<?, ?B/s]"
      ]
     },
     "metadata": {},
     "output_type": "display_data"
    },
    {
     "data": {
      "application/vnd.jupyter.widget-view+json": {
       "model_id": "d7c123f262fb43bfb7449ad4a1880013",
       "version_major": 2,
       "version_minor": 0
      },
      "text/plain": [
       "tokenizer.json:   0%|          | 0.00/1.36M [00:00<?, ?B/s]"
      ]
     },
     "metadata": {},
     "output_type": "display_data"
    },
    {
     "name": "stderr",
     "output_type": "stream",
     "text": [
      "C:\\Users\\Yasmine\\AppData\\Local\\Programs\\Python\\Python312\\Lib\\site-packages\\huggingface_hub\\file_download.py:1132: FutureWarning: `resume_download` is deprecated and will be removed in version 1.0.0. Downloads always resume when possible. If you want to force a new download, use `force_download=True`.\n",
      "  warnings.warn(\n"
     ]
    },
    {
     "data": {
      "application/vnd.jupyter.widget-view+json": {
       "model_id": "d56fc08ae6ff4c97a95e354b5953cb21",
       "version_major": 2,
       "version_minor": 0
      },
      "text/plain": [
       "config.json:   0%|          | 0.00/665 [00:00<?, ?B/s]"
      ]
     },
     "metadata": {},
     "output_type": "display_data"
    },
    {
     "data": {
      "application/vnd.jupyter.widget-view+json": {
       "model_id": "802bf9a0acad43dfb7af9775f9c1c08e",
       "version_major": 2,
       "version_minor": 0
      },
      "text/plain": [
       "model.safetensors:   0%|          | 0.00/548M [00:00<?, ?B/s]"
      ]
     },
     "metadata": {},
     "output_type": "display_data"
    },
    {
     "data": {
      "application/vnd.jupyter.widget-view+json": {
       "model_id": "d8395161b7d74054b91dc315533c19d2",
       "version_major": 2,
       "version_minor": 0
      },
      "text/plain": [
       "generation_config.json:   0%|          | 0.00/124 [00:00<?, ?B/s]"
      ]
     },
     "metadata": {},
     "output_type": "display_data"
    }
   ],
   "source": [
    "pretrained_weights = 'gpt2'\n",
    "tokenizer = GPT2TokenizerFast.from_pretrained(pretrained_weights)\n",
    "model = GPT2LMHeadModel.from_pretrained(pretrained_weights)"
   ]
  },
  {
   "cell_type": "code",
   "execution_count": 5,
   "id": "7ff6c281-4765-47f2-8c77-a677f8d36186",
   "metadata": {},
   "outputs": [],
   "source": [
    "path = 'poemsdataset'"
   ]
  },
  {
   "cell_type": "code",
   "execution_count": 6,
   "id": "d27c2bc7-0ed7-42ce-8cfd-d44662f24a33",
   "metadata": {},
   "outputs": [
    {
     "name": "stdout",
     "output_type": "stream",
     "text": [
      "There are 6322 poems in the dataset\n"
     ]
    }
   ],
   "source": [
    "poems = get_text_files(path, folders = ['forms','topics'])\n",
    "print(\"There are\",len(poems),\"poems in the dataset\")"
   ]
  },
  {
   "cell_type": "code",
   "execution_count": 7,
   "id": "27d8fe9f-0f01-46ef-9114-378699ddcf1e",
   "metadata": {},
   "outputs": [
    {
     "name": "stdout",
     "output_type": "stream",
     "text": [
      "There are 100 ballads in the dataset\n"
     ]
    }
   ],
   "source": [
    "ballads = get_text_files(path+'/forms', folders = ['ballad'])\n",
    "print(\"There are\",len(ballads),\"ballads in the dataset\")"
   ]
  },
  {
   "cell_type": "code",
   "execution_count": 8,
   "id": "d0160a82-8395-4b88-ad69-a7e80d2173c1",
   "metadata": {},
   "outputs": [
    {
     "name": "stdout",
     "output_type": "stream",
     "text": [
      "2 ABC of H.k. and China revised vision.\n",
      "Barrels tears are wines and salts.\n",
      "With a whisk on goody tails!\n",
      "Wiggle maces to fix the heads.\n",
      "Heads in jack on boxes are ceased.\n",
      "Cry to paranoid truly bosses.\n",
      "Bosses are jokers take your boys.\n",
      "Studs are bogs with fire apples.\n",
      "True predicates worth cases.â€™\n",
      "Descents wash in badly bands.\n",
      "Wholly sales are smart with cats.\n",
      "Who got tenth honors in China?\n",
      "Homage grand to play and plays!\n",
      "Trim the times of hearts then cry.\n",
      "Tanks in steels but voice wail.\n",
      "Bossy dragged by tails that whisked.\n",
      "Go very timid and love the wise.\n",
      "Hands are lent but laws are ends.\n",
      "Cases on courts are borrowed lands.\n",
      "Length long with treads to retch!\n",
      "Straps on times and watch here.\n",
      "Arrays tanks but all are men.\n",
      "Cross all suctions steal the ends.\n",
      "Cave on minds are cages on objects.\n",
      "Rouser rockets powers holes.\n",
      "Confine curses to stop our wounds.\n",
      "Whirl your bodies and jump on grounds.\n",
      "Crouch of soldiers after kicks with flings.\n",
      "Block one leg and hit the middle.\n",
      "Cauchy3 know the tricks to kill.\n",
      "Threaten weak oppressed ill.\n",
      "Surpass scores are bad in honors.\n",
      "Wash to think that build the homes.\n",
      "Angel sins but cauchy3 has funs.\n",
      "Make ones tools when hats are found.\n",
      "Worlds are drawers on bottom noses.\n",
      "Singular ugly piece is rose.\n",
      "Wily mores are teeth of sharks.\n",
      "Saw with tooth is laws in arts.\n",
      "Artful men power with grids.\n",
      "Bodies stamped and wills are ridden.\n",
      "Sign in forth with battles conquered.\n",
      "Triumphs on candles whip the stands.\n",
      "Soups are soaps and faiths not come.\n",
      "We are meats in balls and rice to constants.\n",
      "---Cheung Shun Sang=Cauchy3---\n"
     ]
    }
   ],
   "source": [
    "txt = poems[0].open().read(); #read the first file\n",
    "print(txt)"
   ]
  },
  {
   "cell_type": "code",
   "execution_count": 9,
   "id": "4a7ee048-b9b0-4a57-9eb1-ffa16c6f3eb8",
   "metadata": {},
   "outputs": [],
   "source": [
    "ballads = [open(o, encoding='utf-8').read() for o in ballads] # to make things easy we will gather all texts in one numpy array"
   ]
  },
  {
   "cell_type": "code",
   "execution_count": 10,
   "id": "fd7d135b-8ab2-489b-a90a-6eff2da9860a",
   "metadata": {},
   "outputs": [],
   "source": [
    "def flatten(A):\n",
    "    rt = []\n",
    "    for i in A:\n",
    "        if isinstance(i,list): rt.extend(flatten(i))\n",
    "        else: rt.append(i)\n",
    "    return rt\n",
    "  \n",
    "all_ballads = flatten(ballads)"
   ]
  },
  {
   "cell_type": "code",
   "execution_count": 11,
   "id": "c719768c-5691-4ddd-8c62-4cb299cb99ac",
   "metadata": {},
   "outputs": [],
   "source": [
    "class TransformersTokenizer(Transform):\n",
    "    def __init__(self, tokenizer): self.tokenizer = tokenizer\n",
    "    def encodes(self, x): \n",
    "        toks = self.tokenizer.tokenize(x)\n",
    "        return tensor(self.tokenizer.convert_tokens_to_ids(toks))\n",
    "    def decodes(self, x): return TitledStr(self.tokenizer.decode(x.cpu().numpy()))"
   ]
  },
  {
   "cell_type": "code",
   "execution_count": 12,
   "id": "4f0cd199-c33c-433d-9d31-7942499d5e10",
   "metadata": {},
   "outputs": [],
   "source": [
    "splits = [range_of(70), range(100)] # use a 70/30 split\n",
    "tls = TfmdLists(all_ballads, TransformersTokenizer(tokenizer), splits=splits, dl_type=LMDataLoader)"
   ]
  },
  {
   "cell_type": "code",
   "execution_count": 13,
   "id": "e1663c62-fb80-4cb6-af6b-0740a93d1c81",
   "metadata": {},
   "outputs": [
    {
     "name": "stdout",
     "output_type": "stream",
     "text": [
      "The burden of hard hitting. Slug away\n",
      "Like Honus Wagner or like Tyrus Cobb.\n",
      "Else fandom shouteth: \"Who said you could play?\n",
      "Back to the jasper league, you minor slob!\"\n",
      "Swat, hit, connect, line out, goet on the job.\n",
      "Else you shall feel the brunt of fandom's ire\n",
      "Biff, bang it, clout it, hit it on the knob -\n",
      "This is the end of every fan's desire.\n",
      "The burden of good pitching. Curved or straight.\n",
      "Or in or out, or haply up or down,\n",
      "To puzzle him that standeth by the plate,\n",
      "To lessen, so to speak, his bat-renown:\n",
      "Like Christy Mathewson or Miner Brown,\n",
      "So pitch that every man can but admire\n",
      "And offer you the freedom of the town -\n",
      "This is the end of every fan's desire.\n",
      "The burden of loud cheering. O the sounds!\n",
      "The tumult and the shouting from the throats\n",
      "Of forty thousand at the Polo Grounds\n",
      "Sitting, ay, standing sans their hats and coats.\n",
      "A mighty cheer that possibly denotes\n",
      "That Cub or Pirate fat is in the fire;\n",
      "Or, as H. James would say, We've got their goats -\n",
      "This is the end of every fan's desire.\n",
      "The burden of a pennant. O the hope,\n",
      "The tenuous hope, the hope that's half a fear,\n",
      "The lengthy season and the boundless dope,\n",
      "And the bromidic, \"Wait until next year.\"\n",
      "O dread disgrace of trailing in the rear,\n",
      "O Piece of Bunting, flying high and higher\n",
      "That next October it shall flutter here:\n",
      "This is the end of every fan's desire.\n",
      "ENVOY\n",
      "Ah, Fans, let not the Quarry but the Chase\n",
      "Be that to which most fondly we aspire!\n",
      "For us not Stake, but Game; not Goal, but Race -\n",
      "THIS is the end of every fan's desire.\n"
     ]
    }
   ],
   "source": [
    "show_at(tls.train, 0)"
   ]
  },
  {
   "cell_type": "code",
   "execution_count": 14,
   "id": "236c7336-28ac-4c72-8356-88be61203a47",
   "metadata": {},
   "outputs": [
    {
     "name": "stderr",
     "output_type": "stream",
     "text": [
      "Token indices sequence length is longer than the specified maximum sequence length for this model (1214 > 1024). Running this sequence through the model will result in indexing errors\n"
     ]
    }
   ],
   "source": [
    "bs,sl = 4,256\n",
    "dls = tls.dataloaders(bs=bs, seq_len=sl)"
   ]
  },
  {
   "cell_type": "code",
   "execution_count": 15,
   "id": "c4eedfb8-d10d-4aa6-97ff-9e617f02f396",
   "metadata": {},
   "outputs": [
    {
     "data": {
      "text/html": [
       "<table border=\"1\" class=\"dataframe\">\n",
       "  <thead>\n",
       "    <tr style=\"text-align: right;\">\n",
       "      <th></th>\n",
       "      <th>text</th>\n",
       "      <th>text_</th>\n",
       "    </tr>\n",
       "  </thead>\n",
       "  <tbody>\n",
       "    <tr>\n",
       "      <th>0</th>\n",
       "      <td>I.\\nThe death-bell beats!--\\nThe mountain repeats\\nThe echoing sound of the knell;\\nAnd the dark Monk now\\nWraps the cowl round his brow,\\nAs he sits in his lonely cell.\\nII.\\nAnd the cold hand of death\\nChills his shuddering breath,\\nAs he lists to the fearful lay\\nWhich the ghosts of the sky,\\nAs they sweep wildly by,\\nSing to departed day.\\nAnd they sing of the hour\\nWhen the stern fates had power\\nTo resolve Rosa’s form to its clay.\\nIII.\\nBut that hour is past;\\nAnd that hour was the last\\nOf peace to the dark Monk’s brain.\\nBitter tears, from his eyes, gushed silent and fast;\\nAnd he strove to suppress them in vain.\\nIV.\\nThen his fair cross of gold he dashed on the floor,\\nWhen the death-knell struck on his ear.--\\n'Delight is in store\\nFor her evermore;\\nBut for me is fate, horror, and fear.'\\nV.\\nThen his eyes wildly rolled,\\nWhen the death-bell tolled,\\nAnd he raged in terrific woe</td>\n",
       "      <td>.\\nThe death-bell beats!--\\nThe mountain repeats\\nThe echoing sound of the knell;\\nAnd the dark Monk now\\nWraps the cowl round his brow,\\nAs he sits in his lonely cell.\\nII.\\nAnd the cold hand of death\\nChills his shuddering breath,\\nAs he lists to the fearful lay\\nWhich the ghosts of the sky,\\nAs they sweep wildly by,\\nSing to departed day.\\nAnd they sing of the hour\\nWhen the stern fates had power\\nTo resolve Rosa’s form to its clay.\\nIII.\\nBut that hour is past;\\nAnd that hour was the last\\nOf peace to the dark Monk’s brain.\\nBitter tears, from his eyes, gushed silent and fast;\\nAnd he strove to suppress them in vain.\\nIV.\\nThen his fair cross of gold he dashed on the floor,\\nWhen the death-knell struck on his ear.--\\n'Delight is in store\\nFor her evermore;\\nBut for me is fate, horror, and fear.'\\nV.\\nThen his eyes wildly rolled,\\nWhen the death-bell tolled,\\nAnd he raged in terrific woe.</td>\n",
       "    </tr>\n",
       "    <tr>\n",
       "      <th>1</th>\n",
       "      <td>John Barleycorn got up again,\\nAnd sore surpris'd them all.\\nThe sultry suns of Summer came,\\nAnd he grew thick and strong;\\nHis head weel arm'd wi' pointed spears,\\nThat no one should him wrong.\\nThe sober Autumn enter'd mild,\\nWhen he grew wan and pale;\\nHis bending joints and drooping head\\nShow'd he bagan to fail.\\nHis colour sicken'd more and more,\\nHe faded into age;\\nAnd then his enemies began\\nTo show their deadly rage.\\nThey've taen a weapon, long and sharp,\\nAnd cut him by the knee;\\nThen tied him fast upon a cart,\\nLike a rogue for forgerie.\\nThey laid him down upon his back,\\nAnd cudgell'd him full sore;\\nThey hung him up before the storm,\\nAnd turn'd him o'er and o'er.\\nThey filled up a darksome pit\\nWith water to the brim;\\nThey heaved in John Barleycorn,\\nThere let him sink or swim.\\nThey laid him out upon the floor,\\nTo work him further woe;\\nAnd still, as signs of</td>\n",
       "      <td>Barleycorn got up again,\\nAnd sore surpris'd them all.\\nThe sultry suns of Summer came,\\nAnd he grew thick and strong;\\nHis head weel arm'd wi' pointed spears,\\nThat no one should him wrong.\\nThe sober Autumn enter'd mild,\\nWhen he grew wan and pale;\\nHis bending joints and drooping head\\nShow'd he bagan to fail.\\nHis colour sicken'd more and more,\\nHe faded into age;\\nAnd then his enemies began\\nTo show their deadly rage.\\nThey've taen a weapon, long and sharp,\\nAnd cut him by the knee;\\nThen tied him fast upon a cart,\\nLike a rogue for forgerie.\\nThey laid him down upon his back,\\nAnd cudgell'd him full sore;\\nThey hung him up before the storm,\\nAnd turn'd him o'er and o'er.\\nThey filled up a darksome pit\\nWith water to the brim;\\nThey heaved in John Barleycorn,\\nThere let him sink or swim.\\nThey laid him out upon the floor,\\nTo work him further woe;\\nAnd still, as signs of life</td>\n",
       "    </tr>\n",
       "  </tbody>\n",
       "</table>"
      ],
      "text/plain": [
       "<IPython.core.display.HTML object>"
      ]
     },
     "metadata": {},
     "output_type": "display_data"
    }
   ],
   "source": [
    "dls.show_batch(max_n=2)"
   ]
  },
  {
   "cell_type": "code",
   "execution_count": 16,
   "id": "d42b00f5-0d9e-47d3-86df-ad15818be4e5",
   "metadata": {},
   "outputs": [],
   "source": [
    "class DropOutput(Callback):\n",
    "    def after_pred(self): self.learn.pred = self.pred[0]"
   ]
  },
  {
   "cell_type": "code",
   "execution_count": 17,
   "id": "1ae589ae-4787-44f0-8871-5e3d30fcaef2",
   "metadata": {},
   "outputs": [],
   "source": [
    "learn = Learner(dls, model, loss_func=CrossEntropyLossFlat(), cbs=[DropOutput], metrics=Perplexity()).to_fp16()"
   ]
  },
  {
   "cell_type": "code",
   "execution_count": 18,
   "id": "64ce93bb-30bc-461f-90c4-e16128dd233d",
   "metadata": {},
   "outputs": [
    {
     "name": "stderr",
     "output_type": "stream",
     "text": [
      "C:\\Users\\Yasmine\\AppData\\Local\\Programs\\Python\\Python312\\Lib\\site-packages\\torch\\amp\\autocast_mode.py:250: UserWarning: User provided device_type of 'cuda', but CUDA is not available. Disabling\n",
      "  warnings.warn(\n",
      "C:\\Users\\Yasmine\\AppData\\Local\\Programs\\Python\\Python312\\Lib\\site-packages\\torch\\amp\\grad_scaler.py:131: UserWarning: torch.cuda.amp.GradScaler is enabled, but CUDA is not available.  Disabling.\n",
      "  warnings.warn(\n"
     ]
    },
    {
     "data": {
      "text/html": [
       "\n",
       "<style>\n",
       "    /* Turns off some styling */\n",
       "    progress {\n",
       "        /* gets rid of default border in Firefox and Opera. */\n",
       "        border: none;\n",
       "        /* Needs to be in here for Safari polyfill so background images work as expected. */\n",
       "        background-size: auto;\n",
       "    }\n",
       "    progress:not([value]), progress:not([value])::-webkit-progress-bar {\n",
       "        background: repeating-linear-gradient(45deg, #7e7e7e, #7e7e7e 10px, #5c5c5c 10px, #5c5c5c 20px);\n",
       "    }\n",
       "    .progress-bar-interrupted, .progress-bar-interrupted::-webkit-progress-bar {\n",
       "        background: #F44336;\n",
       "    }\n",
       "</style>\n"
      ],
      "text/plain": [
       "<IPython.core.display.HTML object>"
      ]
     },
     "metadata": {},
     "output_type": "display_data"
    },
    {
     "data": {
      "text/html": [],
      "text/plain": [
       "<IPython.core.display.HTML object>"
      ]
     },
     "metadata": {},
     "output_type": "display_data"
    },
    {
     "data": {
      "text/plain": [
       "(#2) [4.1808180809021,65.41934967041016]"
      ]
     },
     "execution_count": 18,
     "metadata": {},
     "output_type": "execute_result"
    }
   ],
   "source": [
    "learn.validate()"
   ]
  },
  {
   "cell_type": "code",
   "execution_count": 19,
   "id": "42a1296b-eec1-4e8c-8f9b-96f88b4b6908",
   "metadata": {},
   "outputs": [
    {
     "data": {
      "text/html": [
       "\n",
       "<style>\n",
       "    /* Turns off some styling */\n",
       "    progress {\n",
       "        /* gets rid of default border in Firefox and Opera. */\n",
       "        border: none;\n",
       "        /* Needs to be in here for Safari polyfill so background images work as expected. */\n",
       "        background-size: auto;\n",
       "    }\n",
       "    progress:not([value]), progress:not([value])::-webkit-progress-bar {\n",
       "        background: repeating-linear-gradient(45deg, #7e7e7e, #7e7e7e 10px, #5c5c5c 10px, #5c5c5c 20px);\n",
       "    }\n",
       "    .progress-bar-interrupted, .progress-bar-interrupted::-webkit-progress-bar {\n",
       "        background: #F44336;\n",
       "    }\n",
       "</style>\n"
      ],
      "text/plain": [
       "<IPython.core.display.HTML object>"
      ]
     },
     "metadata": {},
     "output_type": "display_data"
    },
    {
     "data": {
      "text/html": [],
      "text/plain": [
       "<IPython.core.display.HTML object>"
      ]
     },
     "metadata": {},
     "output_type": "display_data"
    },
    {
     "data": {
      "text/plain": [
       "SuggestedLRs(valley=7.585775892948732e-05)"
      ]
     },
     "execution_count": 19,
     "metadata": {},
     "output_type": "execute_result"
    },
    {
     "data": {
      "image/png": "[encoded data removed]",
      "text/plain": [
       "<Figure size 640x480 with 1 Axes>"
      ]
     },
     "metadata": {},
     "output_type": "display_data"
    }
   ],
   "source": [
    "learn.lr_find()"
   ]
  },
  {
   "cell_type": "code",
   "execution_count": 20,
   "id": "7187bcea-e47f-426b-b607-4d973e6ed82d",
   "metadata": {},
   "outputs": [
    {
     "data": {
      "text/html": [
       "\n",
       "<style>\n",
       "    /* Turns off some styling */\n",
       "    progress {\n",
       "        /* gets rid of default border in Firefox and Opera. */\n",
       "        border: none;\n",
       "        /* Needs to be in here for Safari polyfill so background images work as expected. */\n",
       "        background-size: auto;\n",
       "    }\n",
       "    progress:not([value]), progress:not([value])::-webkit-progress-bar {\n",
       "        background: repeating-linear-gradient(45deg, #7e7e7e, #7e7e7e 10px, #5c5c5c 10px, #5c5c5c 20px);\n",
       "    }\n",
       "    .progress-bar-interrupted, .progress-bar-interrupted::-webkit-progress-bar {\n",
       "        background: #F44336;\n",
       "    }\n",
       "</style>\n"
      ],
      "text/plain": [
       "<IPython.core.display.HTML object>"
      ]
     },
     "metadata": {},
     "output_type": "display_data"
    },
    {
     "data": {
      "text/html": [
       "<table border=\"1\" class=\"dataframe\">\n",
       "  <thead>\n",
       "    <tr style=\"text-align: left;\">\n",
       "      <th>epoch</th>\n",
       "      <th>train_loss</th>\n",
       "      <th>valid_loss</th>\n",
       "      <th>perplexity</th>\n",
       "      <th>time</th>\n",
       "    </tr>\n",
       "  </thead>\n",
       "  <tbody>\n",
       "    <tr>\n",
       "      <td>0</td>\n",
       "      <td>4.359070</td>\n",
       "      <td>4.000042</td>\n",
       "      <td>54.600441</td>\n",
       "      <td>16:55</td>\n",
       "    </tr>\n",
       "  </tbody>\n",
       "</table>"
      ],
      "text/plain": [
       "<IPython.core.display.HTML object>"
      ]
     },
     "metadata": {},
     "output_type": "display_data"
    }
   ],
   "source": [
    "learn.fit_one_cycle(1, 1e-4)"
   ]
  },
  {
   "cell_type": "markdown",
   "id": "eff23092-c932-4aaa-88b1-202d140e4107",
   "metadata": {},
   "source": [
    "# Poem Generation Example"
   ]
  },
  {
   "cell_type": "code",
   "execution_count": 22,
   "id": "f8901739-59e8-4854-b64c-cbbf8f2020d6",
   "metadata": {},
   "outputs": [
    {
     "data": {
      "text/plain": [
       "torch.Size([1, 3])"
      ]
     },
     "execution_count": 22,
     "metadata": {},
     "output_type": "execute_result"
    }
   ],
   "source": [
    "prompt = 'love is ridiculous' # create an initial text prompt to start your generated text\n",
    "prompt_ids = tokenizer.encode(prompt)\n",
    "inp = torch.tensor(prompt_ids)[None]\n",
    "inp.shape"
   ]
  },
  {
   "cell_type": "code",
   "execution_count": 27,
   "id": "a21a44b9-179d-48ed-8c6c-6965e562dc74",
   "metadata": {},
   "outputs": [
    {
     "name": "stdout",
     "output_type": "stream",
     "text": [
      "Output:\n",
      "----------------------------------------------------------------------------------------------------\n",
      "love is ridiculous.\"\n",
      "\"I don't know what to do with you,\" he said, \"but I'll tell you what I think of you. I've never seen you like this before, and I'm afraid you'll never see me again. Don't you think I'd like to see you again?\"\n",
      "He shook his head. \"Don't be afraid of me,\" said he; \"I'll be glad to meet you in person, if you're willing to listen to me.\"\n"
     ]
    }
   ],
   "source": [
    "preds = learn.model.generate(prompt_ids, \n",
    "                       max_length=100, \n",
    "                       num_beams=5, \n",
    "                       no_repeat_ngram_size=2, \n",
    "                       early_stopping=True,\n",
    "                       pad_token_id=pad_token_id,\n",
    "                       attention_mask=attention_mask)\n",
    "print(\"Output:\\n\" + 100 * '-')\n",
    "print(tokenizer.decode(preds[0].cpu().numpy(), skip_special_tokens=True))"
   ]
  },
  {
   "cell_type": "code",
   "execution_count": 36,
   "id": "5bca0cba-0721-4971-a3b7-ce425b0c09e7",
   "metadata": {},
   "outputs": [
    {
     "name": "stdout",
     "output_type": "stream",
     "text": [
      "Output:\n",
      "----------------------------------------------------------------------------------------------------\n",
      "cats are cute, but they don't have to be.\n",
      "I've seen a lot of them in my life, and I've never seen one that I'd like to see again. I'm not sure if I'll ever see them again, or if they'll be a part of my family. But I know they've been around for a long time, so I can't wait to find out what they're up to. And I hope you'll join me on the hunt for them.\n"
     ]
    }
   ],
   "source": [
    "prompt = \"cats are cute\"\n",
    "prompt_ids = tokenizer.encode(prompt)\n",
    "inp = torch.tensor(prompt_ids)[None]\n",
    "preds = learn.model.generate(inp, max_length=100, num_beams=5, no_repeat_ngram_size=2, early_stopping=True, pad_token_id=pad_token_id, attention_mask=attention_mask)\n",
    "print(\"Output:\\n\" + 100 * '-')\n",
    "print(tokenizer.decode(preds[0].cpu().numpy(), skip_special_tokens=True))"
   ]
  },
  {
   "cell_type": "code",
   "execution_count": null,
   "id": "68a8c76c-39ec-452e-ae2c-946726a13924",
   "metadata": {},
   "outputs": [],
   "source": []
  }
 ],
 "metadata": {
  "kernelspec": {
   "display_name": "Python 3 (ipykernel)",
   "language": "python",
   "name": "python3"
  },
  "language_info": {
   "codemirror_mode": {
    "name": "ipython",
    "version": 3
   },
   "file_extension": ".py",
   "mimetype": "text/x-python",
   "name": "python",
   "nbconvert_exporter": "python",
   "pygments_lexer": "ipython3",
   "version": "3.12.2"
  }
 },
 "nbformat": 4,
 "nbformat_minor": 5
}
